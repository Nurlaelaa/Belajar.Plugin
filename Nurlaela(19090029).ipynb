{
  "nbformat": 4,
  "nbformat_minor": 0,
  "metadata": {
    "colab": {
      "name": "Nurlaela(19090029).ipynb",
      "provenance": [],
      "authorship_tag": "ABX9TyN2UQu3Va179lbNWh/4zs0c",
      "include_colab_link": true
    },
    "kernelspec": {
      "name": "python3",
      "display_name": "Python 3"
    },
    "language_info": {
      "name": "python"
    }
  },
  "cells": [
    {
      "cell_type": "markdown",
      "metadata": {
        "id": "view-in-github",
        "colab_type": "text"
      },
      "source": [
        "<a href=\"https://colab.research.google.com/github/Nurlaelaa/Belajar.Plugin/blob/main/Nurlaela(19090029).ipynb\" target=\"_parent\"><img src=\"https://colab.research.google.com/assets/colab-badge.svg\" alt=\"Open In Colab\"/></a>"
      ]
    },
    {
      "cell_type": "code",
      "metadata": {
        "id": "AdQjpgHRRnXF"
      },
      "source": [
        ""
      ],
      "execution_count": null,
      "outputs": []
    },
    {
      "cell_type": "markdown",
      "metadata": {
        "id": "HmSlqx1vSqFg"
      },
      "source": [
        "#NURLAELA"
      ]
    },
    {
      "cell_type": "markdown",
      "metadata": {
        "id": "7oH8yg-5Szyy"
      },
      "source": [
        "**19090029**"
      ]
    },
    {
      "cell_type": "code",
      "metadata": {
        "colab": {
          "base_uri": "https://localhost:8080/"
        },
        "id": "ga88pN7QS26G",
        "outputId": "a20f539a-691d-4121-d020-3b5a898b407b"
      },
      "source": [
        "#fungsi yang tidak mengembalikan nilai\n",
        "def biodata():\n",
        "    print (\"Nama : Nurlaela\")\n",
        "    print (\"Alamat : Kalikangkung\") \n",
        "    print (\"Hobby : Olahraga \")\n",
        "           \n",
        "## pemanggilan\n",
        "biodata()"
      ],
      "execution_count": 1,
      "outputs": [
        {
          "output_type": "stream",
          "name": "stdout",
          "text": [
            "Nama : Nurlaela\n",
            "Alamat : Kalikangkung\n",
            "Hobby : Olahraga \n"
          ]
        }
      ]
    },
    {
      "cell_type": "code",
      "metadata": {
        "colab": {
          "base_uri": "https://localhost:8080/"
        },
        "id": "ok8jsVtgTnlu",
        "outputId": "9ad119e9-5d8d-409c-a6a3-4f5a9794bbe9"
      },
      "source": [
        "#fungsi yang mengembalikan nilai \n",
        "def luas_segitiga(alas,tinggi):\n",
        "    return (alas * tinggi)/2\n",
        "print (\"Luas segitiga adalah\", luas_segitiga(5,4));"
      ],
      "execution_count": 2,
      "outputs": [
        {
          "output_type": "stream",
          "name": "stdout",
          "text": [
            "Luas segitiga adalah 10.0\n"
          ]
        }
      ]
    }
  ]
}